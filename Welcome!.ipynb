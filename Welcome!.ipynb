{
 "cells": [
  {
   "cell_type": "markdown",
   "metadata": {},
   "source": [
    "# Welcome to the Accelerated Introduction to Computational Biology Course\n",
    "\n",
    "\n"
   ]
  },
  {
   "cell_type": "markdown",
   "metadata": {},
   "source": [
    "Me:  Mark D Wilkinson\n",
    "\n",
    "Location:  CBGP CsBGP Laboratory\n",
    "\n",
    "Phone: +34 913364592\n"
   ]
  },
  {
   "cell_type": "markdown",
   "metadata": {},
   "source": [
    "<pre>\n",
    "\n",
    "\n",
    "</pre>\n",
    "# Before we begin.... what is this Web page?\n",
    "\n",
    "The page you are reading right now is called a [Jupyter Notebook](https://jupyter.org/).  Jupyter is a Web-based environment for demonstrating and documenting software (in almost any language!)\n",
    "\n",
    "The \"original version\" of this page is located in a public repository called [GitHub](http://github.com).  All files for this course are [stored there](https://github.com/CBGP-UPM-INIA-PUBLIC).  The original version of the page you are reading is stored in the folder [Accelerated_Intro_to_CompBio_Part_1](https://github.com/CBGP-UPM-INIA-PUBLIC/Accelerated_Intro_to_CompBio_Part_1).  \n",
    "\n",
    "I say \"original version\" because you are reading a **copy** of the original.  Clicking \"START HERE\" on your desktop causes your computer to download a copy of the course lectures from GitHub to your computer.  \n",
    "\n",
    "I will use Jupyter notebooks for the remainder of this course, and for my follow-up \"Programming Challenges\" course, because that they can be edited!  Because the copy you are reading is **YOUR** copy, you are free to make your own notes in this Notebook.  \n",
    "\n",
    "To make your own notes, just double-click in the white text areas, type your notes, and then CTRL ENTER to save your notes.  To change a piece of code/software, just click in the grey area and type your changes.  To execute the changes, and see the output, type CTRL ENTER.  (try this now!)\n",
    "    \n",
    "BE CAREFUL!!  If you EVER click \"START_HERE\" again, it will **delete your copy** and replace it with a clean copy of the original version from GitHub... all of your notes will be lost!\n",
    "\n"
   ]
  },
  {
   "cell_type": "code",
   "execution_count": 1,
   "metadata": {
    "vscode": {
     "languageId": "shellscript"
    }
   },
   "outputs": [
    {
     "ename": "SyntaxError",
     "evalue": "invalid syntax (1757875004.py, line 1)",
     "output_type": "error",
     "traceback": [
      "\u001b[0;36m  Cell \u001b[0;32mIn[1], line 1\u001b[0;36m\u001b[0m\n\u001b[0;31m    bueno!\u001b[0m\n\u001b[0m         ^\u001b[0m\n\u001b[0;31mSyntaxError\u001b[0m\u001b[0;31m:\u001b[0m invalid syntax\n"
     ]
    }
   ],
   "source": [
    "bueno!\n"
   ]
  },
  {
   "cell_type": "markdown",
   "metadata": {},
   "source": [
    "# Objectives for the next 2 days\n",
    "\n",
    " 1. About your Virtual Machine\n",
    " 2. The Linux Operating System - basic basics\n",
    " 3. GitHub - getting the rest of this course!\n"
   ]
  },
  {
   "cell_type": "markdown",
   "metadata": {},
   "source": [
    "# Your Virtual Machine"
   ]
  },
  {
   "cell_type": "code",
<<<<<<< HEAD
   "execution_count": 2,
   "metadata": {},
   "outputs": [
    {
     "ename": "NameError",
     "evalue": "name 'lsb_release' is not defined",
     "output_type": "error",
     "traceback": [
      "\u001b[0;31m---------------------------------------------------------------------------\u001b[0m",
      "\u001b[0;31mNameError\u001b[0m                                 Traceback (most recent call last)",
      "\u001b[1;32m/home/usuario/Documents/Introduction_course/Accelerated_Intro_to_CompBio_Part_1/Welcome!.ipynb Cell 7\u001b[0m line \u001b[0;36m1\n\u001b[0;32m----> <a href='vscode-notebook-cell:/home/usuario/Documents/Introduction_course/Accelerated_Intro_to_CompBio_Part_1/Welcome%21.ipynb#W6sZmlsZQ%3D%3D?line=0'>1</a>\u001b[0m lsb_release \u001b[39m-\u001b[39ma\n",
      "\u001b[0;31mNameError\u001b[0m: name 'lsb_release' is not defined"
=======
   "execution_count": 1,
   "metadata": {
    "vscode": {
     "languageId": "shellscript"
    }
   },
   "outputs": [
    {
     "name": "stdout",
     "output_type": "stream",
     "text": [
      "No LSB modules are available.\n",
      "Distributor ID:\tUbuntu\n",
      "Description:\tUbuntu 22.04.3 LTS\n",
      "Release:\t22.04\n",
      "Codename:\tjammy\n"
>>>>>>> ed643cc53be91c2f24040de7e767dba303284b01
     ]
    }
   ],
   "source": [
    "lsb_release -a"
   ]
  },
  {
   "cell_type": "markdown",
   "metadata": {},
   "source": [
    "\n",
    "\n",
    "    $ lsb_release -a\n",
    "    \n",
    "    No LSB modules are available.\n",
    "    Distributor ID:\tLinuxmint\n",
    "    Description:\tLinux Mint 20\n",
    "    Release:\t20\n",
    "    Codename:\tulyana\n",
    "\n",
    "\n",
    "### Main components\n",
    "\n",
    "Linux Mint 20 64-bit (with Xfce interface).\n",
    "    \n",
    "\n",
    "### General Description\n",
    "\n",
    "(adapted from Rajesh Namase, https://www.techlila.com/introduction-linux-operating-system/ and The Linux Foundation \n",
    "https://www.edx.org/course/introduction-linux-linuxfoundationx-lfs101x-1)\n",
    "\n",
    "Linus Torvalds was a Helsinki university student who liked playing around with software and computers.  In 1991 he announced the creation of a new core operating system that he had named Linux. Linux powers 94% of the world’s supercomputers, most of the servers powering the Internet, and a billion+ Android devices. 97% of managers reported that they will prioritize hiring employees competent in Linux relative to other skills areas.  Linux is particularly suitable for businesses with small IT budgets (like scientific laboratories!!!!). Linux is free to use and install, and is extremely stable and reliable (no blue screen of death!).\n",
    "\n",
    "### Linux Mint 20.0\n",
    "\n",
    "Unlike Windows, there are many different interfaces (\"shells\"), distributions, and \"flavours\" of Linux.  Obviously, the shell that is on your Android phone is very different from the shell you are using now (Mint 19).  Note that there are also many different shells for your phone!  Linux will also be embedded in devices like Raspberry PI, your WiFi router, your Smart TV, entertainment systems in your car, and spacecraft.  Linux can be very very small - there are distributions of Linux that will run in as little as 3MB of RAM!\n",
    "\n",
    "Mint 20 Xfce is a very rich desktop interface.  It works like Mac/Windows - drag/drop, left/right click - menu bar (at the bottom of the screen).  The main menu is the green \"mint\" icon at the bottom left.  Applications are sorted based on their general type.  Mint comes with Libre Office, which is like Microsoft Office (but free!), Firefox web browser, and a wide range of basic utilities like PDF file readers, etc.  I have installed Komodo Edit (an editor for writing software) - the icon for this is on your desktop.  I have also set the default keyboard layout to be \"Spanish\".  If you click the spanish flag in the bottom left, you can switch to a US-layout keyboard.\n",
    "\n",
    "One of the main applications you will need to know for the first few days is the *Terminal*.  The icon to start the Terminal is in the icon bar (bottom left of your screen) - a black box icon.  Open that now.  You will notice that the terminal window is slightly transparent - I like it that way, but you can change this if you don't.  \n",
    "\n",
    "The \"command prompt\" is the \"stuff\" before the flashing white box.  By default, Mint 18 tells you:\n",
    "    \n",
    "    Your username\n",
    "    Your current \"location\" in the filesystem\n",
    "    The command prompt ('$')\n",
    "    \n",
    "    e.g. osboxes@osboxes ~ $\n",
    "    \n",
    "Type:  \"cd Course\" (\"cd\" = \"Change directory\") and press Enter.  Your command prompt now changes to:\n",
    "\n",
    "    osboxes@osboxes ~/Course $\n",
    "\n",
    "Autocomplete is a common feature in most Linux distributions, and is activated by pressing the 'Tab' key.  Autocomplete is \"smart\" in that it will select either an app (in the context where you need an app) or a file-name (in the context where you need a filename).  Try this:\n",
    "\n",
    "    osboxes@osboxes ~/Course $ fire                 (now press Tab)\n",
    "    \n",
    "    osboxes@osboxes ~/Course $ firefox              (now press Tab again)\n",
    "    \n",
    "    osboxes@osboxes ~/Course $ firefox Accelerated_Intro_to_CompBio_Part_1/\n",
    "    \n",
    "Remember this!   It's a very cool trick that will speed-up your typing!!!\n",
    "\n",
    "To go \"up\" one level of directory, type 'cd ..'   (two dots)\n",
    "\n",
    "To go back to your \"home\" directory, from anywhere, type 'cd ~'\n",
    "\n",
    "    osboxes@osboxes ~/Course $ cd ~\n",
    "\n",
    "To repeat a previous command, press the UP ARROW until you see that command at the prompt (DOWN ARROW takes you through the command history in the other direction)\n",
    "\n",
    "\n"
   ]
  },
  {
   "cell_type": "markdown",
   "metadata": {},
   "source": [
    "# Switching between the VM and your native Operating System\n",
    "\n",
    "You will notice that you cannot click on your Windows/Mac desktop after you have clicked on the VM.  This is because all Mouse commands are now being sent to the VM.  To move \"focus\" back to your native Operating System, click <code>CTRL+ALT</code>.  To move focus back to the VM, just click anywhere in the VM window.  I DON'T KNOW HOW TO DO THIS ON A MAC.  PLEASE TELL ME IF YOU KNOW.\n",
    "    \n",
    "\n",
    "# Useful Applications\n",
    "The most used applications are immediately available in the menu bar.\n",
    "   * hide all open windows (show the desktop.  DOES NOT close the apps)\n",
    "   * Firefox web browser\n",
    "   * Command Prompt\n",
    "   * File manager\n",
    "   \n",
    "\n",
    "\n",
    "# Shutting down Linux\n",
    "\n",
    "1) The main menu has a \"power\" symbol that leads to a menu for logout, shut-down, or hibernate.  \n",
    "2) At the command-line, \"shutdown\" will cause the system to close all applications and shut down\n",
    " \n",
    "<pre>\n",
    "\n",
    "\n",
    "\n",
    "\n",
    "\n",
    "\n",
    "\n",
    "</pre>\n",
    "   \n",
    "    "
   ]
  },
  {
   "cell_type": "markdown",
   "metadata": {},
   "source": [
    "#  PROVE THAT YOU UNDERSTAND\n",
    "\n",
    "   * close your terminal window\n",
    "   * open a new terminal window\n",
    "   * move into the folder \"Desktop\"\n",
    "   * go up one level of directory\n",
    "   * move into the folder \"Course/Accelerated_Intro_to_CompBio_Part_1/\"\n",
    "   * go directly back to your home directory\n",
    "   * Open the file browser\n",
    "   * browse to the \"Course/Accelerated_Intro_to_CompBio_Part_1/\" folder\n",
    "   * close the file browser app\n",
    "   * shut down Mint (whatever way you want)\n",
    "   * restart Mint\n",
    "   * open a Terminal window\n",
    "   * cd to the \"Course/Accelerated_Intro_to_CompBio_Part_1/\" folder\n",
    "   * type:  **jupyter notebook** at the command prompt to start this tutorial\n",
    "   \n",
    "Note that you can always start the Jupyter notebook with that command, and then browse to whatever lecture you are interested in.\n",
    "\n",
    "\n",
    "<pre>\n",
    "\n",
    "\n",
    "\n",
    "\n",
    "\n",
    "\n",
    "</pre>\n",
    "\n",
    "\n",
    "   "
   ]
  },
  {
   "cell_type": "markdown",
   "metadata": {},
   "source": [
    "(an example of how to add your notes into my lecture notes)\n",
    "\n",
    "put my notes here\n",
    "\n",
    "* home key goes to beginning of line\n",
    "\n",
    "* end key goes to end of line\n",
    "\n"
   ]
  },
  {
   "cell_type": "markdown",
   "metadata": {},
   "source": [
    "# Introduction to Unix/Linux Commands\n",
    "\n",
    "Unlike in Windows or Mac, it is much more common in Linux to do things at the command line.  There are apps for almost everything, but you will find that it is a lot faster to type a command compared to finding an app, double-clicking it to start, blah blah blah blah blah.  MORE IMPORTANTLY, **many Linux installations will not have a graphical interface!!  ONLY the command-line is available!**  So in this introduction we will only study how to do things at the command line.\n",
    "\n",
    "All command-line functions have full instructions that can be accessed at the command-line using the command \"man\" (for 'manual').  For example:\n"
   ]
  },
  {
   "cell_type": "code",
   "execution_count": 2,
   "metadata": {
    "vscode": {
     "languageId": "shellscript"
    }
   },
   "outputs": [
    {
     "name": "stdout",
     "output_type": "stream",
     "text": [
      "LS(1)                            User Commands                           LS(1)\n",
      "\n",
      "NAME\n",
      "       ls - list directory contents\n",
      "\n",
      "SYNOPSIS\n",
      "       ls [OPTION]... [FILE]...\n",
      "\n",
      "DESCRIPTION\n",
      "       List  information  about  the FILEs (the current directory by default).\n",
      "       Sort entries alphabetically if none of -cftuvSUX nor --sort  is  speci‐\n",
      "       fied.\n",
      "\n",
      "       Mandatory  arguments  to  long  options are mandatory for short options\n",
      "       too.\n",
      "\n",
      "       -a, --all\n",
      "              do not ignore entries starting with .\n",
      "\n",
      "       -A, --almost-all\n",
      "              do not list implied . and ..\n",
      "\n",
      "       --author\n",
      "              with -l, print the author of each file\n",
      "\n",
      "       -b, --escape\n",
      "              print C-style escapes for nongraphic characters\n",
      "\n",
      "       --block-size=SIZE\n",
      "              with  -l,  scale  sizes  by  SIZE  when  printing  them;   e.g.,\n",
      "              '--block-size=M'; see SIZE format below\n",
      "\n",
      "       -B, --ignore-backups\n",
      "              do not list implied entries ending with ~\n",
      "\n",
      "       -c     with -lt: sort by, and show, ctime (time of last modification of\n",
      "              file status information); with -l: show ctime and sort by  name;\n",
      "              otherwise: sort by ctime, newest first\n",
      "\n",
      "       -C     list entries by columns\n",
      "\n",
      "       --color[=WHEN]\n",
      "              colorize  the output; WHEN can be 'always' (default if omitted),\n",
      "              'auto', or 'never'; more info below\n",
      "\n",
      "       -d, --directory\n",
      "              list directories themselves, not their contents\n",
      "\n",
      "       -D, --dired\n",
      "              generate output designed for Emacs' dired mode\n",
      "\n",
      "       -f     do not sort, enable -aU, disable -ls --color\n",
      "\n",
      "       -F, --classify\n",
      "              append indicator (one of */=>@|) to entries\n",
      "\n",
      "       --file-type\n",
      "              likewise, except do not append '*'\n",
      "\n",
      "       --format=WORD\n",
      "              across -x, commas -m, horizontal -x, long -l, single-column  -1,\n",
      "              verbose -l, vertical -C\n",
      "\n",
      "       --full-time\n",
      "              like -l --time-style=full-iso\n",
      "\n",
      "       -g     like -l, but do not list owner\n",
      "\n",
      "       --group-directories-first\n",
      "              group directories before files;\n",
      "\n",
      "              can   be  augmented  with  a  --sort  option,  but  any  use  of\n",
      "              --sort=none (-U) disables grouping\n",
      "\n",
      "       -G, --no-group\n",
      "              in a long listing, don't print group names\n",
      "\n",
      "       -h, --human-readable\n",
      "              with -l and -s, print sizes like 1K 234M 2G etc.\n",
      "\n",
      "       --si   likewise, but use powers of 1000 not 1024\n",
      "\n",
      "       -H, --dereference-command-line\n",
      "              follow symbolic links listed on the command line\n",
      "\n",
      "       --dereference-command-line-symlink-to-dir\n",
      "              follow each command line symbolic link\n",
      "\n",
      "              that points to a directory\n",
      "\n",
      "       --hide=PATTERN\n",
      "              do not list implied entries matching shell  PATTERN  (overridden\n",
      "              by -a or -A)\n",
      "\n",
      "       --hyperlink[=WHEN]\n",
      "              hyperlink file names; WHEN can be 'always' (default if omitted),\n",
      "              'auto', or 'never'\n",
      "\n",
      "       --indicator-style=WORD\n",
      "              append indicator with style WORD to entry names: none (default),\n",
      "              slash (-p), file-type (--file-type), classify (-F)\n",
      "\n",
      "       -i, --inode\n",
      "              print the index number of each file\n",
      "\n",
      "       -I, --ignore=PATTERN\n",
      "              do not list implied entries matching shell PATTERN\n",
      "\n",
      "       -k, --kibibytes\n",
      "              default  to  1024-byte  blocks for disk usage; used only with -s\n",
      "              and per directory totals\n",
      "\n",
      "       -l     use a long listing format\n",
      "\n",
      "       -L, --dereference\n",
      "              when showing file information for a symbolic link, show informa‐\n",
      "              tion  for  the file the link references rather than for the link\n",
      "              itself\n",
      "\n",
      "       -m     fill width with a comma separated list of entries\n",
      "\n",
      "       -n, --numeric-uid-gid\n",
      "              like -l, but list numeric user and group IDs\n",
      "\n",
      "       -N, --literal\n",
      "              print entry names without quoting\n",
      "\n",
      "       -o     like -l, but do not list group information\n",
      "\n",
      "       -p, --indicator-style=slash\n",
      "              append / indicator to directories\n",
      "\n",
      "       -q, --hide-control-chars\n",
      "              print ? instead of nongraphic characters\n",
      "\n",
      "       --show-control-chars\n",
      "              show nongraphic characters as-is (the default, unless program is\n",
      "              'ls' and output is a terminal)\n",
      "\n",
      "       -Q, --quote-name\n",
      "              enclose entry names in double quotes\n",
      "\n",
      "       --quoting-style=WORD\n",
      "              use  quoting style WORD for entry names: literal, locale, shell,\n",
      "              shell-always,  shell-escape,  shell-escape-always,   c,   escape\n",
      "              (overrides QUOTING_STYLE environment variable)\n",
      "\n",
      "       -r, --reverse\n",
      "              reverse order while sorting\n",
      "\n",
      "       -R, --recursive\n",
      "              list subdirectories recursively\n",
      "\n",
      "       -s, --size\n",
      "              print the allocated size of each file, in blocks\n",
      "\n",
      "       -S     sort by file size, largest first\n",
      "\n",
      "       --sort=WORD\n",
      "              sort  by  WORD instead of name: none (-U), size (-S), time (-t),\n",
      "              version (-v), extension (-X)\n",
      "\n",
      "       --time=WORD\n",
      "              change the default of  using  modification  times;  access  time\n",
      "              (-u): atime, access, use; change time (-c): ctime, status; birth\n",
      "              time: birth, creation;\n",
      "\n",
      "              with -l, WORD determines which time to show;  with  --sort=time,\n",
      "              sort by WORD (newest first)\n",
      "\n",
      "       --time-style=TIME_STYLE\n",
      "              time/date format with -l; see TIME_STYLE below\n",
      "\n",
      "       -t     sort by time, newest first; see --time\n",
      "\n",
      "       -T, --tabsize=COLS\n",
      "              assume tab stops at each COLS instead of 8\n",
      "\n",
      "       -u     with  -lt:  sort by, and show, access time; with -l: show access\n",
      "              time and sort by name; otherwise: sort by  access  time,  newest\n",
      "              first\n",
      "\n",
      "       -U     do not sort; list entries in directory order\n",
      "\n",
      "       -v     natural sort of (version) numbers within text\n",
      "\n",
      "       -w, --width=COLS\n",
      "              set output width to COLS.  0 means no limit\n",
      "\n",
      "       -x     list entries by lines instead of by columns\n",
      "\n",
      "       -X     sort alphabetically by entry extension\n",
      "\n",
      "       -Z, --context\n",
      "              print any security context of each file\n",
      "\n",
      "       -1     list one file per line.  Avoid '\\n' with -q or -b\n",
      "\n",
      "       --help display this help and exit\n",
      "\n",
      "       --version\n",
      "              output version information and exit\n",
      "\n",
      "       The  SIZE  argument  is  an  integer and optional unit (example: 10K is\n",
      "       10*1024).  Units are K,M,G,T,P,E,Z,Y  (powers  of  1024)  or  KB,MB,...\n",
      "       (powers  of 1000).  Binary prefixes can be used, too: KiB=K, MiB=M, and\n",
      "       so on.\n",
      "\n",
      "       The TIME_STYLE argument can be  full-iso,  long-iso,  iso,  locale,  or\n",
      "       +FORMAT.   FORMAT  is  interpreted  like in date(1).  If FORMAT is FOR‐\n",
      "       MAT1<newline>FORMAT2, then FORMAT1 applies to non-recent files and FOR‐\n",
      "       MAT2  to  recent files.  TIME_STYLE prefixed with 'posix-' takes effect\n",
      "       only outside the POSIX locale.  Also the TIME_STYLE  environment  vari‐\n",
      "       able sets the default style to use.\n",
      "\n",
      "       Using  color  to distinguish file types is disabled both by default and\n",
      "       with --color=never.  With --color=auto, ls emits color codes only  when\n",
      "       standard  output is connected to a terminal.  The LS_COLORS environment\n",
      "       variable can change the settings.  Use the dircolors command to set it.\n",
      "\n",
      "   Exit status:\n",
      "       0      if OK,\n",
      "\n",
      "       1      if minor problems (e.g., cannot access subdirectory),\n",
      "\n",
      "       2      if serious trouble (e.g., cannot access command-line argument).\n",
      "\n",
      "AUTHOR\n",
      "       Written by Richard M. Stallman and David MacKenzie.\n",
      "\n",
      "REPORTING BUGS\n",
      "       GNU coreutils online help: <https://www.gnu.org/software/coreutils/>\n",
      "       Report any translation bugs to <https://translationproject.org/team/>\n",
      "\n",
      "COPYRIGHT\n",
      "       Copyright © 2020 Free Software Foundation, Inc.   License  GPLv3+:  GNU\n",
      "       GPL version 3 or later <https://gnu.org/licenses/gpl.html>.\n",
      "       This  is  free  software:  you  are free to change and redistribute it.\n",
      "       There is NO WARRANTY, to the extent permitted by law.\n",
      "\n",
      "SEE ALSO\n",
      "       Full documentation <https://www.gnu.org/software/coreutils/ls>\n",
      "       or available locally via: info '(coreutils) ls invocation'\n",
      "\n",
      "GNU coreutils 8.32               February 2022                           LS(1)\n"
     ]
    }
   ],
   "source": [
    "man ls"
   ]
  },
  {
   "cell_type": "markdown",
   "metadata": {},
   "source": [
    "## File/Folder Browsing and manipulation commands\n",
    "\n",
    "You have already used the *cd* (Change Directory) command.  We will now go through several more common commands\n",
    "\n",
    "   * ls\n",
    "   * dir\n",
    "   * touch\n",
    "   * rm\n",
    "   * mkdir\n",
    "   * mv\n",
    "   * cp\n",
    "   * cat\n",
    "   * head\n",
    "   * tail\n",
    "   \n"
   ]
  },
  {
   "cell_type": "markdown",
   "metadata": {},
   "source": [
    "## ls and dir\n",
    "*ls* and *dir* are almost identical, just with slightly different defaults.  Use whichever one you prefer."
   ]
  },
  {
   "cell_type": "code",
   "execution_count": 3,
   "metadata": {
    "vscode": {
     "languageId": "shellscript"
    }
   },
   "outputs": [
    {
     "name": "stdout",
     "output_type": "stream",
     "text": [
      " License-CC-BY-4.0  'Welcome!.ipynb'   samplefile.txt   you_cant_read_me.txt\n",
      " README.md           \u001b[0m\u001b[01;32mgetsections.sh\u001b[0m    \u001b[01;31mvector.gz\u001b[0m\n",
      "total 952\n",
      "-rw-r--r-- 1 jm jm  14198 Nov 14 21:50  License-CC-BY-4.0\n",
      "-rw-r--r-- 1 jm jm   2343 Nov 14 21:50  README.md\n",
      "-rw-r--r-- 1 jm jm  56847 Nov 14 21:53 'Welcome!.ipynb'\n",
      "-rwxr-xr-x 1 jm jm    110 Nov 14 21:50  \u001b[0m\u001b[01;32mgetsections.sh\u001b[0m\n",
      "-rw-r--r-- 1 jm jm    151 Nov 14 21:50  samplefile.txt\n",
      "-rw-r--r-- 1 jm jm 881144 Nov 14 21:50  \u001b[01;31mvector.gz\u001b[0m\n",
      "-rw-r--r-- 1 jm jm     72 Nov 14 21:50  you_cant_read_me.txt\n"
     ]
    }
   ],
   "source": [
    "ls\n",
    "#echo \"            now do -l (+list-style)\"\n",
    "ls -l\n",
    "#echo \"            now do -lth (+list +time +human-readable-size)\"\n",
    "#ls -lth\n",
    "#echo \"            now do -fl (+full +list)\"\n",
    "#ls -fl\n",
    "#echo \"            now do -flsS  (+full +list +size +sort by size)\"\n",
    "#ls -flsS\n",
    "#echo \"            now do -lsSA  ( +list +size +sort +Almost-all)\"\n",
    "#ls -lsSA"
   ]
  },
  {
   "cell_type": "code",
   "execution_count": 4,
   "metadata": {
    "vscode": {
     "languageId": "shellscript"
    }
   },
   "outputs": [
    {
     "name": "stdout",
     "output_type": "stream",
     "text": [
      "License-CC-BY-4.0  Welcome!.ipynb  samplefile.txt  you_cant_read_me.txt\n",
      "README.md\t   getsections.sh  vector.gz\n",
      "total 956\n",
      "-rw-r--r-- 1 jm jm  14198 Nov 14 21:50 License-CC-BY-4.0\n",
      "-rw-r--r-- 1 jm jm   2343 Nov 14 21:50 README.md\n",
      "-rw-r--r-- 1 jm jm  57671 Nov 14 21:53 Welcome!.ipynb\n",
      "-rwxr-xr-x 1 jm jm    110 Nov 14 21:50 getsections.sh\n",
      "-rw-r--r-- 1 jm jm    151 Nov 14 21:50 samplefile.txt\n",
      "-rw-r--r-- 1 jm jm 881144 Nov 14 21:50 vector.gz\n",
      "-rw-r--r-- 1 jm jm     72 Nov 14 21:50 you_cant_read_me.txt\n"
     ]
    }
   ],
   "source": [
    "dir\n",
    "dir -l"
   ]
  },
  {
   "cell_type": "markdown",
   "metadata": {},
   "source": [
    "## PROVE YOU UNDERSTAND\n",
    "\n",
    "Create an *ls* or *dir* command that lists the content of the current folder, sorted by time, using human-readable size"
   ]
  },
  {
   "cell_type": "code",
   "execution_count": null,
   "metadata": {
    "vscode": {
     "languageId": "shellscript"
    }
   },
   "outputs": [],
   "source": []
  },
  {
   "cell_type": "markdown",
   "metadata": {},
   "source": [
    "<pre>\n",
    "\n",
    "\n",
    "\n",
    "\n",
    "</pre>\n",
    "## touch\n",
    "*touch* is used to create an empty file.  You specify the filename however you wish.\n"
   ]
  },
  {
   "cell_type": "code",
   "execution_count": 5,
   "metadata": {
    "vscode": {
     "languageId": "shellscript"
    }
   },
   "outputs": [
    {
     "name": "stdout",
     "output_type": "stream",
     "text": [
      "total 956\n",
      "-rw-r--r-- 1 jm jm  14198 Nov 14 21:50  License-CC-BY-4.0\n",
      "-rw-r--r-- 1 jm jm   2343 Nov 14 21:50  README.md\n",
      "-rw-r--r-- 1 jm jm  58367 Nov 14 21:53 'Welcome!.ipynb'\n",
      "-rwxr-xr-x 1 jm jm    110 Nov 14 21:50  \u001b[0m\u001b[01;32mgetsections.sh\u001b[0m\n",
      "-rw-r--r-- 1 jm jm      0 Nov 14 21:53  myfile.txt\n",
      "-rw-r--r-- 1 jm jm    151 Nov 14 21:50  samplefile.txt\n",
      "-rw-r--r-- 1 jm jm 881144 Nov 14 21:50  \u001b[01;31mvector.gz\u001b[0m\n",
      "-rw-r--r-- 1 jm jm     72 Nov 14 21:50  you_cant_read_me.txt\n"
     ]
    }
   ],
   "source": [
    "touch myfile.txt\n",
    "ls -l\n"
   ]
  },
  {
   "cell_type": "markdown",
   "metadata": {},
   "source": [
    "## rm\n",
    "*rm* (\"remove\") is used to delete files\n"
   ]
  },
  {
   "cell_type": "code",
   "execution_count": null,
   "metadata": {
    "vscode": {
     "languageId": "shellscript"
    }
   },
   "outputs": [],
   "source": [
    "ls -l\n",
    "rm myfile.txt\n",
    "ls -l"
   ]
  },
  {
   "cell_type": "markdown",
   "metadata": {},
   "source": [
    "<pre>\n",
    "\n",
    "\n",
    "\n",
    "\n",
    "</pre>\n",
    "## mkdir\n",
    "*mkdir* (\"make directory\") is used to create folders \n"
   ]
  },
  {
   "cell_type": "code",
   "execution_count": null,
   "metadata": {
    "vscode": {
     "languageId": "shellscript"
    }
   },
   "outputs": [],
   "source": [
    "mkdir SomeFolder\n",
    "ls -l\n",
    "rm -r SomeFolder   # \"-r\" tells rm that you do want to remove directories AND CONTENT... normally directories are ignored\n",
    "ls -l"
   ]
  },
  {
   "cell_type": "markdown",
   "metadata": {},
   "source": [
    "## mv\n",
    "*mv* (\"move\") is used to move a file or a folder from one place to another\n"
   ]
  },
  {
   "cell_type": "code",
   "execution_count": null,
   "metadata": {
    "vscode": {
     "languageId": "shellscript"
    }
   },
   "outputs": [],
   "source": [
    "echo \"          List current folder - this is our starting point\"\n",
    "ls -l\n",
    "touch myfile.txt\n",
    "mkdir SomeFolder\n",
    "mkdir SomeFolder/SubFolder\n",
    "echo \"          List current folder after creating myfile.txt and SomeFolder\"\n",
    "ls -l\n",
    "echo \"          now MOVING myfile.txt into the SubFolder\"\n",
    "mv myfile.txt SomeFolder/SubFolder\n",
    "ls -l\n",
    "echo \"          List SomeFolder\"\n",
    "ls -l SomeFolder\n",
    "echo \"          List SomeFolder/SubFolder\"\n",
    "ls -l SomeFolder/SubFolder\n",
    "echo \"          Remove SomeFolder (notice what it outputs!)\"\n",
    "rm -rf SomeFolder   # NOTE HOW DANGEROUS THIS CAN BE!!\n",
    "echo \"          List current folder to show that everything is gone\"\n",
    "ls -l\n"
   ]
  },
  {
   "cell_type": "markdown",
   "metadata": {},
   "source": [
    "## cp\n",
    "*cp* (\"copy\") is used to copy a file or a folder (and its content) into a second location"
   ]
  },
  {
   "cell_type": "code",
   "execution_count": null,
   "metadata": {
    "vscode": {
     "languageId": "shellscript"
    }
   },
   "outputs": [],
   "source": [
    "echo \"          List current folder - this is our starting point\"\n",
    "ls -l\n",
    "touch myfile.txt\n",
    "mkdir SomeFolder\n",
    "echo \"          List current folder after creating myfile.txt and SomeFolder\"\n",
    "ls -l\n",
    "echo \"          Making a backup of myfile.txt using the 'cp' command\"\n",
    "cp  myfile.txt  myfile.txt.BACKUP\n",
    "echo \"          List SomeFolder after the copy command\"\n",
    "ls -l\n",
    "echo \"          Remove our backup\"\n",
    "rm myfile.txt.BACKUP\n",
    "echo \"          Create a copy of myfile.txt in SomeFolder\"\n",
    "cp myfile.txt SomeFolder\n",
    "echo \"          List SomeFolder after the copy command\"\n",
    "ls -l SomeFolder\n",
    "rm -r SomeFolder   # limpiar!\n"
   ]
  },
  {
   "cell_type": "code",
   "execution_count": null,
   "metadata": {
    "vscode": {
     "languageId": "shellscript"
    }
   },
   "outputs": [],
   "source": [
    "cd ~\n",
    "ls -l\n"
   ]
  },
  {
   "cell_type": "markdown",
   "metadata": {},
   "source": [
    "## cat  and  head  and tail\n",
    "*cat* is used to display the entire content of a file.\n",
    "\n",
    "*head* is used to display the first XXX lines of a file.\n",
    "\n",
    "*tail* is used to display the last XXX lines of a file."
   ]
  },
  {
   "cell_type": "code",
   "execution_count": null,
   "metadata": {
    "vscode": {
     "languageId": "shellscript"
    }
   },
   "outputs": [],
   "source": [
    "echo \"                head alone (file has 20 lines)\"\n",
    "head samplefile.txt\n",
    "echo \"                head -2 (two lines)\"\n",
    "head -2 samplefile.txt\n",
    "echo \"                cat (entire file)\"\n",
    "cat samplefile.txt\n",
    "echo \"                tail -2 (two lines)\"\n",
    "tail -2 samplefile.txt\n"
   ]
  },
  {
   "cell_type": "markdown",
   "metadata": {},
   "source": [
    "<pre>\n",
    "\n",
    "\n",
    "\n",
    "</pre>\n",
    "\n",
    "## Prove that you understand\n",
    "\n",
    "   * make a **backup copy** of the License for these course notes **in a new folder**\n",
    "   * **print the first 3 lines** of the license to the screen\n",
    "   * **print the last 3 lines** of the license to the screen\n",
    "   * **Delete the License** and **replace it with your backup copy**\n",
    "   * **Demove the backup folder**\n",
    "   * do a **directory listing** that shows the license as **the first thing in the list** (think!!!)\n",
    "   "
   ]
  },
  {
   "cell_type": "code",
   "execution_count": null,
   "metadata": {
    "vscode": {
     "languageId": "shellscript"
    }
   },
   "outputs": [],
   "source": []
  },
  {
   "cell_type": "code",
   "execution_count": null,
   "metadata": {
    "vscode": {
     "languageId": "shellscript"
    }
   },
   "outputs": [],
   "source": []
  },
  {
   "cell_type": "markdown",
   "metadata": {},
   "source": [
    "<pre>\n",
    "\n",
    "\n",
    "\n",
    "\n",
    "\n",
    "\n",
    "\n",
    "</pre>\n",
    "# Manipulating and exploring file content\n",
    "\n",
    "So far, you have created empty files and moved them, but an empty file isn't very useful.\n",
    "\n",
    "You can open the empty file in your File Explorer app, double-click it, and edit it in the editor app... but that's not how we do things!  We can also edit files directly at the command line using a non-windowed text-editing app.  I will show you \"pico\" now, but **don't use pico inside of Jupyter** (it will BLOCK all of your other code windows!!).\n",
    "\n",
    "There are other ways to manipulate content in Linux.  These involve \"pipes\" and \"content redirection\".\n",
    "\n",
    "## Linux \"pipes\"  (  |  )\n",
    "\n",
    "A \"pipe\" means to send the output from one command into the input of another command (more formally, it sends the stdandard output stream of one command into the standard input stream of another command - we will look at these streams a bit later...).  Multiple pipes can be used in the same line.  Here's a few examples:"
   ]
  },
  {
   "cell_type": "code",
   "execution_count": null,
   "metadata": {
    "vscode": {
     "languageId": "shellscript"
    }
   },
   "outputs": [],
   "source": [
    "cd ~/Course/Accelerated_Intro_to_CompBio_Part_1\n",
    "cat samplefile.txt |  head -10  | tail -3 \n",
    "echo \"  another example - what is the most recent file edited?\"\n",
    "ls -lth | head -2  | tail -1  \n"
   ]
  },
  {
   "cell_type": "markdown",
   "metadata": {},
   "source": [
    "# Linux output directs ( >   and  >>  )\n",
    "\n",
    "You can also direct the output from a command to a file, either overwriting what is there, or appending to the end of that file.  Here are some examples:\n"
   ]
  },
  {
   "cell_type": "code",
   "execution_count": null,
   "metadata": {
    "vscode": {
     "languageId": "shellscript"
    }
   },
   "outputs": [],
   "source": [
    "rm myfile.txt\n",
    "echo \"hey I'm in a file and this is really important data!\" > myfile.txt  # I'm sending content of \"echo\" to the file\n",
    "#cat myfile.txt\n",
    "echo \"hey I'm in a file and this output is garbage!\" > myfile.txt  # I'm sending content of \"echo\" to the file\n",
    "cat myfile.txt\n",
    "rm myfile.txt\n"
   ]
  },
  {
   "cell_type": "code",
   "execution_count": null,
   "metadata": {
    "vscode": {
     "languageId": "shellscript"
    }
   },
   "outputs": [],
   "source": [
    "ls -lth > allfiles.txt  # send the output of ls to the file\n",
    "cat allfiles.txt\n",
    "rm allfiles.txt"
   ]
  },
  {
   "cell_type": "code",
   "execution_count": null,
   "metadata": {
    "vscode": {
     "languageId": "shellscript"
    }
   },
   "outputs": [],
   "source": [
    "ls -lth | tail -1 > oldest_file.txt  # combine a pipe with an output redirect\n",
    "cat oldest_file.txt\n",
    "rm oldest_file.txt"
   ]
  },
  {
   "cell_type": "code",
   "execution_count": null,
   "metadata": {
    "vscode": {
     "languageId": "shellscript"
    }
   },
   "outputs": [],
   "source": [
    "ls -lth > doublelist.txt\n",
    "ls -lth >> doublelist.txt  # >> is the \"add to the end of\" (\"append\") operator\n",
    "cat doublelist.txt\n",
    "rm doublelist.txt\n"
   ]
  },
  {
   "cell_type": "markdown",
   "metadata": {},
   "source": [
    "# grep - query the content of a file\n",
    "\n",
    "*grep* is a way to ask a file if it contains a certain set of characters.\n",
    "\n",
    "The simplest example:\n"
   ]
  },
  {
   "cell_type": "code",
   "execution_count": null,
   "metadata": {
    "vscode": {
     "languageId": "shellscript"
    }
   },
   "outputs": [],
   "source": [
    "grep \"subject\" License-CC-BY-4.0   # note that grep is case-sensitive!\n"
   ]
  },
  {
   "cell_type": "code",
   "execution_count": null,
   "metadata": {
    "vscode": {
     "languageId": "shellscript"
    }
   },
   "outputs": [],
   "source": [
    "grep \"SUBJECT\" License-CC-BY-4.0  # no output, because it is case-sensitive"
   ]
  },
  {
   "cell_type": "code",
   "execution_count": null,
   "metadata": {
    "vscode": {
     "languageId": "shellscript"
    }
   },
   "outputs": [],
   "source": [
    "grep -i \"subject\" License-CC-BY-4.0  # -i means \"insensitive to case\""
   ]
  },
  {
   "cell_type": "code",
   "execution_count": null,
   "metadata": {
    "vscode": {
     "languageId": "shellscript"
    }
   },
   "outputs": [],
   "source": [
    "grep -in \"subject\" License-CC-BY-4.0   # -n asks for the line number where the match is found"
   ]
  },
  {
   "cell_type": "code",
   "execution_count": null,
   "metadata": {
    "vscode": {
     "languageId": "shellscript"
    }
   },
   "outputs": [],
   "source": [
    "grep -vin \"subject\" License-CC-BY-4.0   # -v means \"any line that DOES NOT match\""
   ]
  },
  {
   "cell_type": "code",
   "execution_count": null,
   "metadata": {
    "vscode": {
     "languageId": "shellscript"
    }
   },
   "outputs": [],
   "source": [
    "grep -in \"subject\" *   # you can query ALL of the files in a folder!"
   ]
  },
  {
   "cell_type": "code",
   "execution_count": null,
   "metadata": {
    "vscode": {
     "languageId": "shellscript"
    }
   },
   "outputs": [],
   "source": [
    "grep  -lin \"subject\" *   # -l means \"just the filename\""
   ]
  },
  {
   "cell_type": "markdown",
   "metadata": {},
   "source": [
    "# Regular Expressions (RegEx/RegExp)\n",
    "\n",
    "Regular expressions are ways to match text in a flexible way.  Effectively, \"it should look something like this pattern\". \n",
    "\n",
    "The patterns available are:\n",
    "\n",
    "   * \\w    a \"word character\" (a-z, A-Z, 0-9, _)\n",
    "   * \\W    the opposite of \\w\n",
    "   * [0-9]  any number\n",
    "   * [A-Z] [a-z] any capital letter or lower case letter\n",
    "   * \\s    a space (space, tab, or newline)\n",
    "   * \\S    the opposite of \\s\n",
    "   * ^     must be at the beginning of a line\n",
    "   * $     must be at the end of a line\n",
    "   \n",
    "   EXTENDED REGULAR EXPRESSIONS  **(requires -E command line argument)**\n",
    "   \n",
    "   * ?     optional\n",
    "   * .     match ANYTHING\n",
    "   * \\\\.    match a dot(period)\n",
    "   * '+'     one or more times\n",
    "   * {number}   match exactly 'number' times\n",
    "  \n",
    "We will do more regular expressions when we start learning Python, but here are some examples that can be used with grep\n"
   ]
  },
  {
   "cell_type": "code",
   "execution_count": null,
   "metadata": {
    "vscode": {
     "languageId": "shellscript"
    }
   },
   "outputs": [],
   "source": [
    "grep -in \"S\\w\\w\\s\" License-CC-BY-4.0   #  an \"s\" or \"S\" character, followed by two characters, followed by a space\n"
   ]
  },
  {
   "cell_type": "code",
   "execution_count": null,
   "metadata": {
    "vscode": {
     "languageId": "shellscript"
    }
   },
   "outputs": [],
   "source": [
    "grep -E -in 'S\\w{4}\\s' License-CC-BY-4.0  # s followed by exactly 4 characters"
   ]
  },
  {
   "cell_type": "code",
   "execution_count": null,
   "metadata": {
    "vscode": {
     "languageId": "shellscript"
    }
   },
   "outputs": [],
   "source": [
    "grep -E -in 'S\\w{1,3}\\s' License-CC-BY-4.0  # s followed by between 1 and 3 characters"
   ]
  },
  {
   "cell_type": "code",
   "execution_count": null,
   "metadata": {
    "vscode": {
     "languageId": "shellscript"
    }
   },
   "outputs": [],
   "source": [
    "grep -E -in 'S\\w+\\s' License-CC-BY-4.0  # s followed by ANY number of characters"
   ]
  },
  {
   "cell_type": "code",
   "execution_count": null,
   "metadata": {
    "vscode": {
     "languageId": "shellscript"
    }
   },
   "outputs": [],
   "source": [
    "grep -E -in '\\sS\\w+\\s' License-CC-BY-4.0  # words that start with s (i.e. preceded by a space)\n"
   ]
  },
  {
   "cell_type": "code",
   "execution_count": null,
   "metadata": {
    "vscode": {
     "languageId": "shellscript"
    }
   },
   "outputs": [],
   "source": [
    "grep -E -in '\\sSection\\s[0-9]+' License-CC-BY-4.0   # references to sections"
   ]
  },
  {
   "cell_type": "code",
   "execution_count": null,
   "metadata": {
    "vscode": {
     "languageId": "shellscript"
    }
   },
   "outputs": [],
   "source": [
    "grep -E -ino '\\sSection\\s[0-9]+\\S+\\s' License-CC-BY-4.0   # the -o argument prints ONLY the match"
   ]
  },
  {
   "cell_type": "code",
   "execution_count": null,
   "metadata": {
    "vscode": {
     "languageId": "shellscript"
    }
   },
   "outputs": [],
   "source": [
    "grep -E -inoa '\\sSection\\s[0-9]+\\S+\\s' License-CC-BY-4.0  # -a means \"handle binary files like text\"\n",
    "# this is very very important when moving files between Windows applications and Linux command-line applications!\n",
    "# if you don't know the original source of a file, then assume it is going to be Binary!"
   ]
  },
  {
   "cell_type": "code",
   "execution_count": null,
   "metadata": {
    "vscode": {
     "languageId": "shellscript"
    }
   },
   "outputs": [],
   "source": [
    "cat License-CC-BY-4.0"
   ]
  },
  {
   "cell_type": "code",
   "execution_count": null,
   "metadata": {
    "vscode": {
     "languageId": "shellscript"
    }
   },
   "outputs": [],
   "source": [
    "grep -in \"^Section\" License-CC-BY-4.0  # \"Section\" at the beginning of the line only (  ^  )"
   ]
  },
  {
   "cell_type": "code",
   "execution_count": null,
   "metadata": {
    "vscode": {
     "languageId": "shellscript"
    }
   },
   "outputs": [],
   "source": [
    "#  of course, you can use grep exactly like other command-line programs:\n",
    "\n",
    "grep -i \"^Section\" License-CC-BY-4.0   >   Table_of_contents.txt\n",
    "cat Table_of_contents.txt\n",
    "rm Table_of_contents.txt"
   ]
  },
  {
   "cell_type": "markdown",
   "metadata": {},
   "source": [
    "<pre>\n",
    "\n",
    "\n",
    "\n",
    "\n",
    "</pre>\n",
    "# Prove that you understand\n",
    "\n",
    "The commands below will unzip a FASTA-formatted file and print the first 5 lines so you can see them.\n",
    "\n",
    "## Task #1\n",
    "\n",
    "    * add an additional line that creates a file containing ONLY the EMBL accession numbers (e.g. A08585.1)\n",
    "    \n",
    "\n",
    "**hint - EMBL accession numbers always end with a \".1\", \".2\" etc.**\n",
    "\n",
    "<p style=\"visibility:hidden;\">grep -E '>' vector.fasta | grep -Eo \"[A-Z][0-9]+\\.[0-9]\" > accessions.list</p>"
   ]
  },
  {
   "cell_type": "code",
   "execution_count": null,
   "metadata": {
    "vscode": {
     "languageId": "shellscript"
    }
   },
   "outputs": [],
   "source": [
    "gunzip -c vector.gz > vector.fasta\n",
    "head -5 vector.fasta\n",
    "echo \"\"\n",
    "\n",
    "# put your command here that creates the file \"accessions.list\"\n",
    "\n",
    "cat accessions.list\n",
    "rm vector.fasta\n",
    "rm accessions.list"
   ]
  },
  {
   "cell_type": "markdown",
   "metadata": {},
   "source": [
    "<pre>\n",
    "\n",
    "\n",
    "\n",
    "</pre>\n",
    "## Task #2\n",
    "\n",
    "the command \"wc\" (word count) is able to tell you how many words and lines are in a file.  For example\n",
    "\n",
    "         wc -l License-CC-BY-4.0   # -l means \"just the number of lines\"\n",
    "        \n",
    "returns \"99\" because there are 99 lines in the license file.  wc accepts data from a pipe ( | )\n",
    "\n",
    "     * In the box below, create a command that counts the number of FASTA records in the Vector file.\n",
    "     * create a command that counts the number of entries in your accessions list\n",
    "     *  THIS IS AN IMPORTANT CONTROL!!!\n",
    "\n",
    "Just like in biology, controls are important!  You know you should have as many lines in your accessions list as there are records in the fasta file.... prove it!\n"
   ]
  },
  {
   "cell_type": "code",
   "execution_count": null,
   "metadata": {
    "vscode": {
     "languageId": "shellscript"
    }
   },
   "outputs": [],
   "source": [
    "gunzip -c vector.gz > vector.fasta\n",
    "#head  vector.fasta\n",
    "echo \"\"\n",
    "\n",
    ">gi|1345|emb|A1345.1|  this thing is > that thing\n",
    "ACCTCCTGCTGCTC\n",
    "\n",
    "\n",
    "# put your command here taht creates the file \"accessions.list\"\n",
    "grep -E -o \"^>\" vector.fasta | wc -l\n",
    "\n",
    "rm vector.fasta\n",
    "\n"
   ]
  },
  {
   "cell_type": "code",
   "execution_count": null,
   "metadata": {
    "scrolled": true,
    "vscode": {
     "languageId": "shellscript"
    }
   },
   "outputs": [],
   "source": [
    "#head -10 seq\n",
    "grep -E \"^ID\" seq | grep -E -o \"[0-9]+\\sBP.\" | grep -E -o \"[0-9]+\""
   ]
  },
  {
   "cell_type": "markdown",
   "metadata": {},
   "source": [
    "<pre>\n",
    "\n",
    "\n",
    "\n",
    "\n",
    "\n",
    "</pre>\n",
    "# Streams - stdin, stdout, stderr\n",
    "\n",
    "Linux has three \"data streams\" that are always \"open\".  These are:\n",
    "     \n",
    "     * Standard In - **stdin** - an input stream (generally connected to your keyboard input)\n",
    "     * Standard Out - **stdout** - an output stream (generally connected to the terminal window)\n",
    "     * Standard Error - **stderr** - an output stream (generally connected to the terminal window)\n",
    "\n",
    "You have already seen one way to access these, using \"pipes\"  ( | ), which connect the stdout of one command to the stdin of another command.  \n",
    "\n",
    "Now we will look at these streams in more detail.\n",
    "\n",
    "The different streams have different \"numerical values\" (think of them like \"names\" or \"identifiers\" for the moment).\n",
    "\n",
    "    * stdin    -->  0\n",
    "    * stdout   -->  1\n",
    "    * stderr   -->  2\n",
    "    \n",
    "Using these identifiers, we can ask the different streams to go to different places.  \n",
    "\n",
    "Note, first, that error messages and standard output are different streams!  By default, when I use a \">\" or \">>\", it selects the output of stream 1 (**stdout**) and NOT stream 2 (**stderr**).  This means that error messages are sent to the screen, but output data is sent to the file.\n",
    "\n",
    "           runme.sh  >   output.txt    # error messages go to the screen, NOT to output.txt!\n",
    "           \n",
    "\n",
    "Second:  You can change **stdin** to be a file, like this:\n",
    "\n",
    "           runme.sh  <  myinputfile.txt   # the content of myinputfile.txt are available as stdin for runme.sh\n",
    "\n",
    "\n",
    "<pre>\n",
    "\n",
    "\n",
    "</pre>\n",
    "## Try for yourself:\n",
    "\n",
    "I have created a small script \"getsections.sh\" that reads from stdin and executes the regular expression that outputs a table of contents.\n",
    "\n",
    "Show me TWO ways to send the License into that script, to output a table of contents.\n",
    "\n",
    "\n",
    "<p style=\"visibility: hidden;\">\n",
    "    cat  License-CC-BY-4.0  | ./getsections.sh\n",
    "./getsections.sh < License-CC-BY-4.0\n",
    "</p>"
   ]
  },
  {
   "cell_type": "code",
   "execution_count": null,
   "metadata": {
    "vscode": {
     "languageId": "shellscript"
    }
   },
   "outputs": [],
   "source": [
    "# put your code here:  (note that we must include the path information ./ before the script name\n",
    "\n",
    "#./getsections.sh\n",
    "\n",
    "#./getsections.sh\n"
   ]
  },
  {
   "cell_type": "markdown",
   "metadata": {},
   "source": [
    "## stderr - how do we capture that?\n",
    "\n",
    "So far, in every example, error messages go to the screen.  Is there a way to capture error messages in a log file?  This is **extremely important** when you need to keep a record of your experiments!  errors that go to the screen will be lost forever, errors that are captured in a log file, can be examined later to make sure the analysis was executed correctly.\n",
    "\n",
    "Luckily (and by accident!  :-) ) our getsections.sh script outputs an error!  Let's capture that error by directing stream 2 to another file, like this:\n",
    "\n",
    "    cat License | ./getsections.sh  > table_of_contents.txt  2> error_log.txt\n",
    "\n",
    "Try it for yourself below:\n"
   ]
  },
  {
   "cell_type": "code",
   "execution_count": null,
   "metadata": {
    "vscode": {
     "languageId": "shellscript"
    }
   },
   "outputs": [],
   "source": [
    "#cat License-CC-BY-4.0 | ./getsections.sh  > table_of_contents.txt  2> errorlog.txt\n",
    "cat errorlog.txt\n",
    "cat table_of_contents.txt"
   ]
  },
  {
   "cell_type": "markdown",
   "metadata": {},
   "source": [
    "<pre>\n",
    "\n",
    "\n",
    "</pre>\n",
    "Finally, if you need to or want to send one stream into another stream (for example, to get the output and the errors all in one file), you must refer to its value using '&X' \n",
    "\n",
    "    cat License | ./getsections.sh > all_output.txt  2>&1   \n",
    "    # STDERR (stream 2) is sent to &1, which is STDOUT (all_output.txt)\n",
    "    \n",
    "This reveals something more about streaming - notre that the two \">\" are processed TOGETHER.  that command is \"take the output of getsections, send STDOUT to all_output and also send STDERR to STDOUT **at the same time**\" (not sequentially!).  Try that for yourself below:\n",
    "        "
   ]
  },
  {
   "cell_type": "code",
   "execution_count": null,
   "metadata": {
    "vscode": {
     "languageId": "shellscript"
    }
   },
   "outputs": [],
   "source": []
  },
  {
   "cell_type": "markdown",
   "metadata": {},
   "source": [
    "# File Permissions and ownership\n",
    "\n",
    "Linux has a very rich permissions/ownership system - too rich to teach in an introductory course!  But we will look at some basics.\n",
    "\n",
    "## Ownership\n",
    "\n",
    "There are two kinds of ownership for a file - user-level, and group-level.  THESE ARE DIFFERENT, but we will treat them identically in this course.\n",
    "\n",
    "Any file that you create is owned by you.  Who are you?  Ask!"
   ]
  },
  {
   "cell_type": "code",
   "execution_count": null,
   "metadata": {
    "vscode": {
     "languageId": "shellscript"
    }
   },
   "outputs": [],
   "source": [
    "whoami"
   ]
  },
  {
   "cell_type": "markdown",
   "metadata": {},
   "source": [
    "<pre>\n",
    "\n",
    "</pre>\n",
    "So your username (the name that you login with) is 'osboxes'.  When a user is created on a system, there is an identical group created with the same name.  Your user is also added to a few other groups on the system, that allow you to interact with files that are owned by those groups.  To find out what groups you belong to, use the 'groups' command:\n"
   ]
  },
  {
   "cell_type": "code",
   "execution_count": null,
   "metadata": {
    "vscode": {
     "languageId": "shellscript"
    }
   },
   "outputs": [],
   "source": [
    "groups"
   ]
  },
  {
   "cell_type": "markdown",
   "metadata": {},
   "source": [
    "<pre>\n",
    "\n",
    "\n",
    "</pre>\n",
    "You now know that you are user 'osboxes', and you belong to a group called \"osboxes\" (among others).\n",
    "\n",
    "Now, look at your current directory listing again (ls -l):\n"
   ]
  },
  {
   "cell_type": "code",
   "execution_count": 2,
   "metadata": {
    "vscode": {
     "languageId": "shellscript"
    }
   },
   "outputs": [
    {
     "name": "stdout",
     "output_type": "stream",
     "text": [
      "total 936\n",
      "-rwxrwxr-x 1 osboxes osboxes    110 Aug 24 09:12  \u001b[0m\u001b[01;32mgetsections.sh\u001b[0m\n",
      "-rw-rw-r-- 1 osboxes osboxes  14198 Aug 24 09:12  License-CC-BY-4.0\n",
      "-rw-rw-r-- 1 osboxes osboxes   2242 Aug 24 09:12  README.md\n",
      "-rw-rw-r-- 1 osboxes osboxes    151 Aug 24 09:12  samplefile.txt\n",
      "-rw-rw-r-- 1 osboxes osboxes 881144 Aug 24 09:12  \u001b[01;31mvector.gz\u001b[0m\n",
      "-rw-rw-r-- 1 osboxes osboxes  41336 Aug 24 09:46 'Welcome!.ipynb'\n",
      "cat: you_cant_read_me.txt: No such file or directory\n"
     ]
    },
    {
     "ename": "",
     "evalue": "1",
     "output_type": "error",
     "traceback": []
    }
   ],
   "source": [
    "ls -l\n",
    "cat you_cant_read_me.txt\n"
   ]
  },
  {
   "cell_type": "markdown",
   "metadata": {},
   "source": [
    "<pre>\n",
    "\n",
    "</pre>\n",
    "The information in columns 2 and 3 tell you the \"owner\" and the \"group owner\", respectively.  **Most** of your files are owned by the user 'osboxes' and the group 'osboxes'.\n",
    "\n",
    "## Permissions\n",
    "\n",
    "The first column contains information about what users and groups are allowed to *do* with a file.  It contains 10 fields.\n",
    "    1: directory or file?\n",
    "    2/3/4:  read/write/execute for user\n",
    "    5/6/7:  read/write/execute for group\n",
    "    8/9/10: read/write/execute for 'all'\n",
    "    \n",
    "So, the License file is\n",
    "\n",
    "    - rw-  rw-  r--    # not a directory, read/write for user, read/write for group, read for all\n",
    "    \n",
    "The getsections.sh file is:\n",
    "\n",
    "    -  rwx  rwx  r-x   # not a directory, r/w/execute for user, r/w/execute for group, read/execute for all\n",
    "    \n",
    "the zsubdir folder is:\n",
    "\n",
    "    d  rwx  rwx  r-x   # a directory, r/w/x for user, r/w/x for group, r/x for all\n",
    "    \n",
    "and finally the \"you can't read me\" file is **owned by user \"root\" and group \"root\"**,and is:\n",
    "\n",
    "    -  rw-  -w-  ---\n",
    "\n",
    "try to look at the content of \"you can't read me\"..."
   ]
  },
  {
   "cell_type": "code",
   "execution_count": null,
   "metadata": {
    "vscode": {
     "languageId": "shellscript"
    }
   },
   "outputs": [],
   "source": [
    "cat you_cant_read_me.txt"
   ]
  },
  {
   "cell_type": "markdown",
   "metadata": {},
   "source": [
    "<pre>\n",
    "\n",
    "\n",
    "</pre>\n",
    "\n",
    "You don't have the permission to read that file - it is \"read/write\" **by __its__ user**, but its user is \"root\", not \"osboxes\"\n",
    "\n",
    "I am not going to show you how to change file permissions.  File permissions are usually set to be as safe as possible!  Usually it is not a good idea to change them, with one exception - changing a file **that you know is safe**, and that is an app, so that it has \"execute\" permission.  I will show you how to do that if we need it later.\n",
    "\n",
    "For now, we will find another way to deal with files that don't belong to us.  That is, we will change who we are.  Right now, we are 'osboxes'.  We want to become 'root' to view the content of that file."
   ]
  },
  {
   "cell_type": "markdown",
   "metadata": {},
   "source": [
    "<pre>\n",
    "\n",
    "\n",
    "\n",
    "\n",
    "</pre>\n",
    "# Super User!!!   \n",
    "\n",
    "When you login to your Linux machine, you are the user named \"osboxes\".  There can be many different users on your linux machine.  One of the users that always exists is called \"root\".  Root user is the \"super user\", meaning that they have the permission to do ANYTHING on the system (including to destroy it!).  With great power comes great responsibility... be careful!\n",
    "\n",
    "Look at the directory listing again (ls -l):\n"
   ]
  },
  {
   "cell_type": "code",
   "execution_count": null,
   "metadata": {
    "vscode": {
     "languageId": "shellscript"
    }
   },
   "outputs": [],
   "source": [
    "ls -l\n"
   ]
  },
  {
   "cell_type": "markdown",
   "metadata": {},
   "source": [
    "<pre>\n",
    "\n",
    "</pre>\n",
    "\n",
    "to do *anything* with that file, we are going to have to become 'root' user.  There are two ways to do this:\n",
    "\n",
    "    1) change to become 'root' user - this can be very very dangerous (every command is accepted, even stupid ones!)\n",
    "    2) temporarily change to 'root' user for a single command\n",
    "\n",
    "the command to tempoarily change to the 'root' user is called \"sudo\" (super user do).\n",
    "\n",
    "In a terminal window, sudo will ask you for your password before it executes a command (open a terminal and type:\n",
    "\n",
    "    sudo ls -l\n",
    "    \n",
    "(remember that your password is 'oxboxes.org' - your login password)\n",
    "\n",
    "In Jupyter, we can't use a command prompt, so there is a way to send your password to the sudo command using a pipe:\n",
    "\n",
    "    echo osboxes.org | sudo -S cat you_cant_read_me.txt\n",
    "    \n",
    "the command echos your password to the 'sudo -S' command (-S accepts password from stdin).  It then executes 'cat you_cant_read_me.txt\" as 'root' user, and...\n"
   ]
  },
  {
   "cell_type": "code",
   "execution_count": null,
   "metadata": {
    "vscode": {
     "languageId": "shellscript"
    }
   },
   "outputs": [],
   "source": [
    "echo osboxes.org | sudo -S cat you_cant_read_me.txt"
   ]
  },
  {
   "cell_type": "markdown",
   "metadata": {},
   "source": [
    "## I will say it again - with great power, comes great responsibility!!  Be careful with sudo!\n"
   ]
  },
  {
   "cell_type": "markdown",
   "metadata": {},
   "source": [
    "<pre>\n",
    "\n",
    "\n",
    "\n",
    "\n",
    "</pre>\n",
    "\n",
    "# ===================================================\n",
    "\n",
    "# Totally New Topic!!!\n",
    "\n",
    "\n",
    "# GitHub - a place to store your software \"like a professional\"\n",
    "\n",
    "\n",
    "The rest of this lecture is in Google Drive as a slide show:\n",
    "\n",
    "http://tinyurl.com/MDW-Lesson1\n"
   ]
  }
 ],
 "metadata": {
  "kernelspec": {
   "display_name": "base",
   "language": "python",
   "name": "python3"
  },
  "language_info": {
   "codemirror_mode": {
    "name": "ipython",
    "version": 3
   },
   "file_extension": ".py",
   "mimetype": "text/x-python",
   "name": "python",
   "nbconvert_exporter": "python",
   "pygments_lexer": "ipython3",
   "version": "3.11.5"
  }
 },
 "nbformat": 4,
 "nbformat_minor": 2
}
